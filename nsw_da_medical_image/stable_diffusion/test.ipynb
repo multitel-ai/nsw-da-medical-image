{
 "cells": [
  {
   "cell_type": "code",
   "execution_count": 1,
   "metadata": {},
   "outputs": [
    {
     "name": "stderr",
     "output_type": "stream",
     "text": [
      "/opt/conda/lib/python3.10/site-packages/tqdm/auto.py:22: TqdmWarning: IProgress not found. Please update jupyter and ipywidgets. See https://ipywidgets.readthedocs.io/en/stable/user_install.html\n",
      "  from .autonotebook import tqdm as notebook_tqdm\n"
     ]
    }
   ],
   "source": [
    "from diffusers import AutoencoderKL, DDPMScheduler, StableDiffusionPipeline, UNet2DConditionModel,DiffusionPipeline,DPMSolverMultistepScheduler\n",
    "import torch"
   ]
  },
  {
   "cell_type": "code",
   "execution_count": 2,
   "metadata": {},
   "outputs": [
    {
     "name": "stderr",
     "output_type": "stream",
     "text": [
      "The config attributes {'force_upcast': True} were passed to AutoencoderKL, but are not expected and will be ignored. Please verify your config.json configuration file.\n"
     ]
    },
    {
     "ename": "ValueError",
     "evalue": "Cannot load <class 'diffusers.models.autoencoder_kl.AutoencoderKL'> from /App/models/stable_diffusion/test-phase-tPB2v2/vae because the following keys are missing: \n decoder.mid_block.attentions.0.query.weight, encoder.mid_block.attentions.0.key.weight, encoder.mid_block.attentions.0.proj_attn.weight, decoder.mid_block.attentions.0.value.bias, decoder.mid_block.attentions.0.proj_attn.weight, decoder.mid_block.attentions.0.query.bias, encoder.mid_block.attentions.0.proj_attn.bias, decoder.mid_block.attentions.0.key.weight, encoder.mid_block.attentions.0.value.weight, decoder.mid_block.attentions.0.key.bias, encoder.mid_block.attentions.0.value.bias, encoder.mid_block.attentions.0.key.bias, decoder.mid_block.attentions.0.value.weight, decoder.mid_block.attentions.0.proj_attn.bias, encoder.mid_block.attentions.0.query.weight, encoder.mid_block.attentions.0.query.bias. \n Please make sure to pass `low_cpu_mem_usage=False` and `device_map=None` if you want to randomely initialize those weights or else make sure your checkpoint file is correct.",
     "output_type": "error",
     "traceback": [
      "\u001b[0;31m---------------------------------------------------------------------------\u001b[0m",
      "\u001b[0;31mValueError\u001b[0m                                Traceback (most recent call last)",
      "\u001b[1;32m/App/nsw_da_medical_image/stable_diffusion/test.ipynb Cell 2\u001b[0m line \u001b[0;36m1\n\u001b[0;32m----> <a href='vscode-notebook-cell://attached-container%2B7b22636f6e7461696e65724e616d65223a222f6d65646963616c5f696d6167655f737461626c655f646966667573696f6e222c2273657474696e6773223a7b22686f7374223a227373683a2f2f6172696163322e6d756c746974656c2e6265227d7d/App/nsw_da_medical_image/stable_diffusion/test.ipynb#W1sdnNjb2RlLXJlbW90ZQ%3D%3D?line=0'>1</a>\u001b[0m pipe \u001b[39m=\u001b[39m StableDiffusionPipeline\u001b[39m.\u001b[39;49mfrom_pretrained(\u001b[39m'\u001b[39;49m\u001b[39m/App/models/stable_diffusion/test-phase-tPB2v2\u001b[39;49m\u001b[39m'\u001b[39;49m, torch_dtype\u001b[39m=\u001b[39;49mtorch\u001b[39m.\u001b[39;49mfloat16)\n\u001b[1;32m      <a href='vscode-notebook-cell://attached-container%2B7b22636f6e7461696e65724e616d65223a222f6d65646963616c5f696d6167655f737461626c655f646966667573696f6e222c2273657474696e6773223a7b22686f7374223a227373683a2f2f6172696163322e6d756c746974656c2e6265227d7d/App/nsw_da_medical_image/stable_diffusion/test.ipynb#W1sdnNjb2RlLXJlbW90ZQ%3D%3D?line=1'>2</a>\u001b[0m pipe\u001b[39m.\u001b[39mscheduler \u001b[39m=\u001b[39m DPMSolverMultistepScheduler\u001b[39m.\u001b[39mfrom_config(pipe\u001b[39m.\u001b[39mscheduler\u001b[39m.\u001b[39mconfig)\n",
      "File \u001b[0;32m/opt/conda/lib/python3.10/site-packages/diffusers/pipelines/pipeline_utils.py:944\u001b[0m, in \u001b[0;36mDiffusionPipeline.from_pretrained\u001b[0;34m(cls, pretrained_model_name_or_path, **kwargs)\u001b[0m\n\u001b[1;32m    942\u001b[0m \u001b[39m# check if the module is in a subdirectory\u001b[39;00m\n\u001b[1;32m    943\u001b[0m \u001b[39mif\u001b[39;00m os\u001b[39m.\u001b[39mpath\u001b[39m.\u001b[39misdir(os\u001b[39m.\u001b[39mpath\u001b[39m.\u001b[39mjoin(cached_folder, name)):\n\u001b[0;32m--> 944\u001b[0m     loaded_sub_model \u001b[39m=\u001b[39m load_method(os\u001b[39m.\u001b[39;49mpath\u001b[39m.\u001b[39;49mjoin(cached_folder, name), \u001b[39m*\u001b[39;49m\u001b[39m*\u001b[39;49mloading_kwargs)\n\u001b[1;32m    945\u001b[0m \u001b[39melse\u001b[39;00m:\n\u001b[1;32m    946\u001b[0m     \u001b[39m# else load from the root directory\u001b[39;00m\n\u001b[1;32m    947\u001b[0m     loaded_sub_model \u001b[39m=\u001b[39m load_method(cached_folder, \u001b[39m*\u001b[39m\u001b[39m*\u001b[39mloading_kwargs)\n",
      "File \u001b[0;32m/opt/conda/lib/python3.10/site-packages/diffusers/models/modeling_utils.py:567\u001b[0m, in \u001b[0;36mModelMixin.from_pretrained\u001b[0;34m(cls, pretrained_model_name_or_path, **kwargs)\u001b[0m\n\u001b[1;32m    565\u001b[0m missing_keys \u001b[39m=\u001b[39m \u001b[39mset\u001b[39m(model\u001b[39m.\u001b[39mstate_dict()\u001b[39m.\u001b[39mkeys()) \u001b[39m-\u001b[39m \u001b[39mset\u001b[39m(state_dict\u001b[39m.\u001b[39mkeys())\n\u001b[1;32m    566\u001b[0m \u001b[39mif\u001b[39;00m \u001b[39mlen\u001b[39m(missing_keys) \u001b[39m>\u001b[39m \u001b[39m0\u001b[39m:\n\u001b[0;32m--> 567\u001b[0m     \u001b[39mraise\u001b[39;00m \u001b[39mValueError\u001b[39;00m(\n\u001b[1;32m    568\u001b[0m         \u001b[39mf\u001b[39m\u001b[39m\"\u001b[39m\u001b[39mCannot load \u001b[39m\u001b[39m{\u001b[39;00m\u001b[39mcls\u001b[39m\u001b[39m}\u001b[39;00m\u001b[39m from \u001b[39m\u001b[39m{\u001b[39;00mpretrained_model_name_or_path\u001b[39m}\u001b[39;00m\u001b[39m because the following keys are\u001b[39m\u001b[39m\"\u001b[39m\n\u001b[1;32m    569\u001b[0m         \u001b[39mf\u001b[39m\u001b[39m\"\u001b[39m\u001b[39m missing: \u001b[39m\u001b[39m\\n\u001b[39;00m\u001b[39m \u001b[39m\u001b[39m{\u001b[39;00m\u001b[39m'\u001b[39m\u001b[39m, \u001b[39m\u001b[39m'\u001b[39m\u001b[39m.\u001b[39mjoin(missing_keys)\u001b[39m}\u001b[39;00m\u001b[39m. \u001b[39m\u001b[39m\\n\u001b[39;00m\u001b[39m Please make sure to pass\u001b[39m\u001b[39m\"\u001b[39m\n\u001b[1;32m    570\u001b[0m         \u001b[39m\"\u001b[39m\u001b[39m `low_cpu_mem_usage=False` and `device_map=None` if you want to randomely initialize\u001b[39m\u001b[39m\"\u001b[39m\n\u001b[1;32m    571\u001b[0m         \u001b[39m\"\u001b[39m\u001b[39m those weights or else make sure your checkpoint file is correct.\u001b[39m\u001b[39m\"\u001b[39m\n\u001b[1;32m    572\u001b[0m     )\n\u001b[1;32m    574\u001b[0m \u001b[39mfor\u001b[39;00m param_name, param \u001b[39min\u001b[39;00m state_dict\u001b[39m.\u001b[39mitems():\n\u001b[1;32m    575\u001b[0m     accepts_dtype \u001b[39m=\u001b[39m \u001b[39m\"\u001b[39m\u001b[39mdtype\u001b[39m\u001b[39m\"\u001b[39m \u001b[39min\u001b[39;00m \u001b[39mset\u001b[39m(\n\u001b[1;32m    576\u001b[0m         inspect\u001b[39m.\u001b[39msignature(set_module_tensor_to_device)\u001b[39m.\u001b[39mparameters\u001b[39m.\u001b[39mkeys()\n\u001b[1;32m    577\u001b[0m     )\n",
      "\u001b[0;31mValueError\u001b[0m: Cannot load <class 'diffusers.models.autoencoder_kl.AutoencoderKL'> from /App/models/stable_diffusion/test-phase-tPB2v2/vae because the following keys are missing: \n decoder.mid_block.attentions.0.query.weight, encoder.mid_block.attentions.0.key.weight, encoder.mid_block.attentions.0.proj_attn.weight, decoder.mid_block.attentions.0.value.bias, decoder.mid_block.attentions.0.proj_attn.weight, decoder.mid_block.attentions.0.query.bias, encoder.mid_block.attentions.0.proj_attn.bias, decoder.mid_block.attentions.0.key.weight, encoder.mid_block.attentions.0.value.weight, decoder.mid_block.attentions.0.key.bias, encoder.mid_block.attentions.0.value.bias, encoder.mid_block.attentions.0.key.bias, decoder.mid_block.attentions.0.value.weight, decoder.mid_block.attentions.0.proj_attn.bias, encoder.mid_block.attentions.0.query.weight, encoder.mid_block.attentions.0.query.bias. \n Please make sure to pass `low_cpu_mem_usage=False` and `device_map=None` if you want to randomely initialize those weights or else make sure your checkpoint file is correct."
     ]
    }
   ],
   "source": [
    "pipe = StableDiffusionPipeline.from_pretrained('/App/models/stable_diffusion/test-phase-tPB2v2', torch_dtype=torch.float16)\n",
    "pipe.scheduler = DPMSolverMultistepScheduler.from_config(pipe.scheduler.config)"
   ]
  },
  {
   "cell_type": "code",
   "execution_count": null,
   "metadata": {},
   "outputs": [],
   "source": [
    "pipeline.save_pretrained('App/models/stable_diffusion/t3')\n"
   ]
  }
 ],
 "metadata": {
  "kernelspec": {
   "display_name": "base",
   "language": "python",
   "name": "python3"
  },
  "language_info": {
   "codemirror_mode": {
    "name": "ipython",
    "version": 3
   },
   "file_extension": ".py",
   "mimetype": "text/x-python",
   "name": "python",
   "nbconvert_exporter": "python",
   "pygments_lexer": "ipython3",
   "version": "3.10.9"
  },
  "orig_nbformat": 4
 },
 "nbformat": 4,
 "nbformat_minor": 2
}
