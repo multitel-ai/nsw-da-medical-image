{
 "cells": [
  {
   "cell_type": "code",
   "execution_count": 37,
   "metadata": {},
   "outputs": [],
   "source": [
    "import pandas as pd\n",
    "import os\n",
    "import random\n",
    "import shutil"
   ]
  },
  {
   "cell_type": "code",
   "execution_count": 38,
   "metadata": {},
   "outputs": [],
   "source": [
    "#selected_videos = ['LS123-3']\n",
    "#selected_videos = ['LS123-3','MN32-6','CM1073-4']\n",
    "#selected_videos = ['AA83-7','AAL839-6','AB028-6','AB91-1','AX264-1','ADM715-1-2']\n",
    "selected_videos = ['CK601-4']"
   ]
  },
  {
   "cell_type": "code",
   "execution_count": 39,
   "metadata": {},
   "outputs": [],
   "source": [
    "image_per_phase = 4\n",
    "focal_plane = 'F0'\n",
    "metadata = pd.DataFrame()\n",
    "for video in selected_videos:\n",
    "    video_directory = os.path.join('/App/data/extracted/embryo_dataset/', video)\n",
    "    image_names = os.listdir(video_directory)\n",
    "    annotation_directory = os.path.join('/App/data/extracted/embryo_dataset_annotations/',video+'_phases.csv')\n",
    "    phase_info  = pd.read_csv(annotation_directory, header=None)\n",
    "    for row in range(len(phase_info)):\n",
    "\n",
    "        # diff = phase_info.iloc[row,2] - phase_info.iloc[row,1]\n",
    "        # if diff <= image_per_phase:\n",
    "        #     images_id = random.sample(range(phase_info.iloc[row,1], phase_info.iloc[row,2]+1), diff)\n",
    "        # else:\n",
    "        #     images_id = random.sample(range(phase_info.iloc[row,1], phase_info.iloc[row,2]+1), image_per_phase)\n",
    "        image_id = (phase_info.iloc[row,2] + phase_info.iloc[row,1]) // 2\n",
    "        #for image_id in images_id:\n",
    "        for image_name in image_names:\n",
    "            \n",
    "            if 'RUN'+str(image_id)+'.jpeg' in image_name:\n",
    "\n",
    "                # meta_info = pd.DataFrame([{'file_name': image_name,\n",
    "                #                            'prompt': 'a microscopic image of human embryo at phase '+ phase_info.iloc[row,0]+ ' recorded at focal plane '+ focal_plane}])\n",
    "\n",
    "                # metadata = pd.concat([meta_info, metadata], ignore_index=True)\n",
    "                # shutil.copy(os.path.join(video_directory,image_name),'/App/nsw-da-medical-image/stable_diffusion/text_encoder_dataset/')\n",
    "                \n",
    "                caption ='a microscopic image of human embryo at phase '+ phase_info.iloc[row,0]+ ' recorded at focal plane '+ focal_plane\n",
    "                shutil.copy(os.path.join(video_directory,image_name),'/App/nsw-da-medical-image/stable_diffusion/text_encoder_dataset/')\n",
    "                with open('/App/nsw-da-medical-image/stable_diffusion/text_captions/'+image_name[:-5]+'.txt', 'w') as image_caption:\n",
    "                    image_caption.write(caption)\n",
    "            \n",
    "        \n",
    "\n",
    "                    \n",
    "        "
   ]
  },
  {
   "cell_type": "code",
   "execution_count": 5,
   "metadata": {},
   "outputs": [],
   "source": [
    "metadata.to_csv('/App/nsw-da-medical-image/stable_diffusion/text_encoder_dataset/metadata.csv', index=False)"
   ]
  },
  {
   "cell_type": "code",
   "execution_count": null,
   "metadata": {},
   "outputs": [],
   "source": []
  }
 ],
 "metadata": {
  "kernelspec": {
   "display_name": "base",
   "language": "python",
   "name": "python3"
  },
  "language_info": {
   "codemirror_mode": {
    "name": "ipython",
    "version": 3
   },
   "file_extension": ".py",
   "mimetype": "text/x-python",
   "name": "python",
   "nbconvert_exporter": "python",
   "pygments_lexer": "ipython3",
   "version": "3.10.9"
  },
  "orig_nbformat": 4
 },
 "nbformat": 4,
 "nbformat_minor": 2
}
