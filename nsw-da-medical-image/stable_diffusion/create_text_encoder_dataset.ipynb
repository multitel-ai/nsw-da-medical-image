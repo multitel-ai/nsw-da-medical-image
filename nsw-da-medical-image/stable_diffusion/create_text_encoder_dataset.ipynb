{
 "cells": [
  {
   "cell_type": "code",
   "execution_count": 1,
   "metadata": {},
   "outputs": [],
   "source": [
    "import pandas as pd\n",
    "import os\n",
    "import random\n",
    "import shutil"
   ]
  },
  {
   "cell_type": "code",
   "execution_count": 2,
   "metadata": {},
   "outputs": [],
   "source": [
    "selected_videos = ['LS123-3','MN32-6','CM1073-4']"
   ]
  },
  {
   "cell_type": "code",
   "execution_count": 3,
   "metadata": {},
   "outputs": [],
   "source": [
    "image_per_phase = 2\n",
    "focal_plane = 'F0'\n",
    "metadata = pd.DataFrame()\n",
    "for video in selected_videos:\n",
    "    video_directory = os.path.join('/App/data/embryo_dataset/', video)\n",
    "    image_names = os.listdir(video_directory)\n",
    "    annotation_directory = os.path.join('/App/data/embryo_dataset_annotations/',video+'_phases.csv')\n",
    "    phase_info  = pd.read_csv(annotation_directory,index_col=False)\n",
    "    for row in range(len(phase_info)):\n",
    "        images_id = random.sample(range(phase_info.iloc[row,1], phase_info.iloc[row,2]+1), image_per_phase)\n",
    "        for image_id in images_id:\n",
    "            for image_name in image_names:\n",
    "                \n",
    "                if 'RUN'+str(image_id)+'.jpeg' in image_name:\n",
    "                    meta_info = pd.DataFrame([{'image_name': image_name,\n",
    "                                               'prompt': 'a microscopic image of human embryo at phase '+ phase_info.iloc[row,0]+ ' recorded at focal plane '+ focal_plane}])\n",
    "\n",
    "                    metadata = pd.concat([meta_info, metadata], ignore_index=True)\n",
    "                    shutil.copy(os.path.join(video_directory,image_name),'/App/nsw-da-medical-image/stable_diffusion/text_encoder_dataset/')\n",
    "\n",
    "                    \n",
    "        "
   ]
  },
  {
   "cell_type": "code",
   "execution_count": 5,
   "metadata": {},
   "outputs": [],
   "source": [
    "metadata.to_csv('/App/nsw-da-medical-image/stable_diffusion/text_encoder_dataset/metadata.csv', index=False)"
   ]
  },
  {
   "cell_type": "code",
   "execution_count": null,
   "metadata": {},
   "outputs": [],
   "source": []
  }
 ],
 "metadata": {
  "kernelspec": {
   "display_name": "base",
   "language": "python",
   "name": "python3"
  },
  "language_info": {
   "codemirror_mode": {
    "name": "ipython",
    "version": 3
   },
   "file_extension": ".py",
   "mimetype": "text/x-python",
   "name": "python",
   "nbconvert_exporter": "python",
   "pygments_lexer": "ipython3",
   "version": "3.10.9"
  },
  "orig_nbformat": 4
 },
 "nbformat": 4,
 "nbformat_minor": 2
}
